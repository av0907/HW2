{
 "cells": [
  {
   "cell_type": "markdown",
   "id": "55e6b918-afac-43e8-b338-43f8ac64014f",
   "metadata": {},
   "source": [
    "##  Deep Neural Networks Project"
   ]
  },
  {
   "cell_type": "markdown",
   "id": "1a8e066d-2849-4a6e-9c71-bb98d605ae07",
   "metadata": {},
   "source": [
    "In this project, you will be working with a real-world data set from the Las Vegas Metropolitan Police Department. The dataset  contains information about the reported incidents, including the time and location of the crime, type of incident, and number of persons involved. "
   ]
  },
  {
   "cell_type": "markdown",
   "id": "9e87fac7-352a-4c39-b087-76254b5e2743",
   "metadata": {},
   "source": [
    "The dataset is downloaded from the public docket at: \n",
    "https://opendata-lvmpd.hub.arcgis.com\n",
    "\n",
    "let's read the csv file and transform the data:"
   ]
  },
  {
   "cell_type": "code",
   "execution_count": 2,
   "id": "637211a4-582f-426b-a127-c3f284463f35",
   "metadata": {},
   "outputs": [],
   "source": [
    "import torch\n",
    "import pandas as pd\n",
    "from torch.utils.data import DataLoader, Dataset\n",
    "import matplotlib.pyplot as plt\n",
    "import seaborn as sns\n",
    "import numpy as np"
   ]
  },
  {
   "cell_type": "code",
   "execution_count": 3,
   "id": "bcf40b02-80b6-4abc-a662-f7ed50a65181",
   "metadata": {},
   "outputs": [],
   "source": [
    "orig_df = pd.read_csv('./Dataset/LVMPD-Stats.csv', parse_dates=['ReportedOn'])"
   ]
  },
  {
   "cell_type": "code",
   "execution_count": 4,
   "id": "e1ca1d15-3955-4971-a3c4-c1a73b62edda",
   "metadata": {},
   "outputs": [],
   "source": [
    "df = pd.read_csv('./Dataset/LVMPD-Stats.csv', parse_dates=['ReportedOn'],\n",
    "                 usecols = ['X', 'Y', 'ReportedOn',\n",
    "                            'Area_Command','NIBRSOffenseCode',\n",
    "                            'VictimCount' ] )\n",
    "\n",
    "df['DayOfWeek'] = df['ReportedOn'].dt.day_name()\n",
    "df['Time' ]     = df['ReportedOn'].dt.hour\n",
    "df.drop(columns = 'ReportedOn', inplace=True)"
   ]
  },
  {
   "cell_type": "code",
   "execution_count": 5,
   "id": "3ddc413d-ba3f-4204-bc18-7fdd4de8d221",
   "metadata": {},
   "outputs": [],
   "source": [
    "\n",
    "df['X'] = df['X'] \n",
    "df['Y'] = df['Y'] \n",
    "df['Time'] = pd.factorize(df['Time'])[0]\n",
    "df['DayOfWeek'] = pd.factorize(df['DayOfWeek'])[0]\n",
    "df.Area_Command = pd.factorize(df['Area_Command'])[0]\n",
    "df.VictimCount = pd.factorize(df['VictimCount'])[0]\n",
    "df.NIBRSOffenseCode = pd.factorize(df['NIBRSOffenseCode'])[0]\n",
    "df.dropna(inplace=True)"
   ]
  },
  {
   "cell_type": "code",
   "execution_count": 6,
   "id": "a9c6162f-9686-4195-818d-950a6368c686",
   "metadata": {},
   "outputs": [],
   "source": [
    "df= df[['X', 'Y', 'Area_Command', 'NIBRSOffenseCode',\n",
    "       'DayOfWeek', 'Time','VictimCount']]"
   ]
  },
  {
   "cell_type": "code",
   "execution_count": 7,
   "id": "a90bc78a-6d1b-4fe4-a1b0-8333aec1c851",
   "metadata": {},
   "outputs": [
    {
     "data": {
      "text/plain": [
       "(275, 7)"
      ]
     },
     "execution_count": 7,
     "metadata": {},
     "output_type": "execute_result"
    }
   ],
   "source": [
    "df.values.shape"
   ]
  },
  {
   "cell_type": "markdown",
   "id": "651605b1-8d2c-4d3e-a09e-9aef6e550fc6",
   "metadata": {},
   "source": [
    "# Goal\n",
    "The goal is to build a predictive model that is trained on the following data:\n",
    "* latitude and longitude (location)\n",
    "* Hour of the day\n",
    "* Day of the week\n",
    "* Area-of-command code: The police designation of the bureau of the operation.\n",
    "* Classification code for the crime committed\n",
    "  \n",
    "The predicted variable is the number of persons involved in the accident.\n"
   ]
  },
  {
   "cell_type": "markdown",
   "id": "0e54f0b8-83f9-4db9-88f9-f5a595342069",
   "metadata": {},
   "source": [
    "## Task 1\n",
    "* print a few rows of the values in the dataframe ``df`` and explain what each column of data means. \n",
    "* identify the input and target variables\n",
    "* what is the range of values in each column? Do you need to scale, shift or normalize your data? \n"
   ]
  },
  {
   "cell_type": "code",
   "execution_count": 8,
   "id": "92288156",
   "metadata": {},
   "outputs": [
    {
     "data": {
      "text/html": [
       "<div>\n",
       "<style scoped>\n",
       "    .dataframe tbody tr th:only-of-type {\n",
       "        vertical-align: middle;\n",
       "    }\n",
       "\n",
       "    .dataframe tbody tr th {\n",
       "        vertical-align: top;\n",
       "    }\n",
       "\n",
       "    .dataframe thead th {\n",
       "        text-align: right;\n",
       "    }\n",
       "</style>\n",
       "<table border=\"1\" class=\"dataframe\">\n",
       "  <thead>\n",
       "    <tr style=\"text-align: right;\">\n",
       "      <th></th>\n",
       "      <th>X</th>\n",
       "      <th>Y</th>\n",
       "      <th>Area_Command</th>\n",
       "      <th>NIBRSOffenseCode</th>\n",
       "      <th>DayOfWeek</th>\n",
       "      <th>Time</th>\n",
       "      <th>VictimCount</th>\n",
       "    </tr>\n",
       "  </thead>\n",
       "  <tbody>\n",
       "    <tr>\n",
       "      <th>0</th>\n",
       "      <td>-115.087518</td>\n",
       "      <td>36.216702</td>\n",
       "      <td>0</td>\n",
       "      <td>0</td>\n",
       "      <td>0</td>\n",
       "      <td>0</td>\n",
       "      <td>0</td>\n",
       "    </tr>\n",
       "    <tr>\n",
       "      <th>1</th>\n",
       "      <td>-115.240172</td>\n",
       "      <td>36.189693</td>\n",
       "      <td>1</td>\n",
       "      <td>1</td>\n",
       "      <td>1</td>\n",
       "      <td>1</td>\n",
       "      <td>0</td>\n",
       "    </tr>\n",
       "    <tr>\n",
       "      <th>2</th>\n",
       "      <td>-115.143088</td>\n",
       "      <td>36.181329</td>\n",
       "      <td>2</td>\n",
       "      <td>1</td>\n",
       "      <td>2</td>\n",
       "      <td>0</td>\n",
       "      <td>1</td>\n",
       "    </tr>\n",
       "    <tr>\n",
       "      <th>3</th>\n",
       "      <td>-115.225014</td>\n",
       "      <td>36.117633</td>\n",
       "      <td>3</td>\n",
       "      <td>1</td>\n",
       "      <td>1</td>\n",
       "      <td>2</td>\n",
       "      <td>2</td>\n",
       "    </tr>\n",
       "    <tr>\n",
       "      <th>4</th>\n",
       "      <td>-115.176708</td>\n",
       "      <td>36.095967</td>\n",
       "      <td>4</td>\n",
       "      <td>1</td>\n",
       "      <td>1</td>\n",
       "      <td>3</td>\n",
       "      <td>0</td>\n",
       "    </tr>\n",
       "  </tbody>\n",
       "</table>\n",
       "</div>"
      ],
      "text/plain": [
       "            X          Y  Area_Command  NIBRSOffenseCode  DayOfWeek  Time  \\\n",
       "0 -115.087518  36.216702             0                 0          0     0   \n",
       "1 -115.240172  36.189693             1                 1          1     1   \n",
       "2 -115.143088  36.181329             2                 1          2     0   \n",
       "3 -115.225014  36.117633             3                 1          1     2   \n",
       "4 -115.176708  36.095967             4                 1          1     3   \n",
       "\n",
       "   VictimCount  \n",
       "0            0  \n",
       "1            0  \n",
       "2            1  \n",
       "3            2  \n",
       "4            0  "
      ]
     },
     "execution_count": 8,
     "metadata": {},
     "output_type": "execute_result"
    }
   ],
   "source": [
    "df.head()"
   ]
  },
  {
   "cell_type": "markdown",
   "id": "fb9c56a9",
   "metadata": {},
   "source": [
    "X & Y : Denotes the location coordinates i.e., latitude and longitude                                                       \n",
    "Area_Command : Place where the crime happend                                                                                    \n",
    "NIBRSOffense Code : Denotes the type of crime                                                                                   \n",
    "DayOfWeek : On which day the incident happend                                                                                   \n",
    "Time : At what time the incident happened                                                                                       \n",
    "VictimCount : No.of people involved    \n",
    "input variables : X, Y, Area_Command, NIBRSOffenseCode, DayOfWeek, Time                                                         \n",
    "Target variables : VictimCount\n",
    "\n",
    "We dont need to scale, shift and normalize the data."
   ]
  },
  {
   "cell_type": "markdown",
   "id": "5549ecc9-3c0b-4efa-9a1f-340a25a1e4be",
   "metadata": {},
   "source": [
    "## Task 2 \n",
    "\n",
    "* Create two `DataLoader` objects for training and testing based on the input and output variables. Pick a reasonable batch size and verify the shape of data by iterating over the one dataset and printing the shape of the batched data. "
   ]
  },
  {
   "cell_type": "code",
   "execution_count": 9,
   "id": "00fe4287-934b-4799-9e43-c3571acfbab4",
   "metadata": {},
   "outputs": [
    {
     "name": "stdout",
     "output_type": "stream",
     "text": [
      "Batch X shape: torch.Size([32, 6])\n",
      "Batch Y shape: torch.Size([32])\n"
     ]
    }
   ],
   "source": [
    "from torch.utils.data import DataLoader, random_split, TensorDataset\n",
    "\n",
    "X = df[['X', 'Y', 'Area_Command', 'NIBRSOffenseCode', 'DayOfWeek', 'Time']].values\n",
    "Y = df['VictimCount'].values\n",
    "\n",
    "X_tensor = torch.tensor(X, dtype=torch.float32)\n",
    "Y_tensor = torch.tensor(Y, dtype=torch.float32)\n",
    "\n",
    "\n",
    "dataset = TensorDataset(X_tensor, Y_tensor)\n",
    "\n",
    "\n",
    "train_size = int(0.8 * len(dataset))\n",
    "test_size = len(dataset) - train_size\n",
    "train_dataset, test_dataset = random_split(dataset, [train_size, test_size])\n",
    "\n",
    "batch_size = 32\n",
    "train_loader = DataLoader(train_dataset, batch_size=batch_size, shuffle=True)\n",
    "test_loader = DataLoader(test_dataset, batch_size=batch_size, shuffle=False)\n",
    "\n",
    "for batch_X, batch_Y in train_loader:\n",
    "    print(\"Batch X shape:\", batch_X.shape)\n",
    "    print(\"Batch Y shape:\", batch_Y.shape)\n",
    "    break\n"
   ]
  },
  {
   "cell_type": "markdown",
   "id": "1fb6f08c-5e70-4b14-b62c-4686d9f7aace",
   "metadata": {},
   "source": [
    "## Task 3\n",
    "In this task you will try to predict number of crime victims as a **real number**. Therefore the machine learning problem is a **regression** problem. \n",
    "\n",
    "* Define the proper loss function for this task\n",
    "* what should the size of the predicted output be?\n",
    "* explain your choice of architecture, including how many layers you will be using\n",
    "* define an optimizer for training this model, choose a proper learning rate \n",
    "* write a training loop that obtains a batch out of the  training data and calculates the forward and backward passes over the neural network. Call the optimizer to update the weights of the neural network.\n",
    "* write a for loop that continues the training over a number of epochs. At the end of each epoch, calculate the ``MSE`` error on the test data and print it.\n",
    "* is your model training well? Adjust the learning rate, hidden size of the network, and try different activation functions and number of layers to achieve the best accuracy and report it. "
   ]
  },
  {
   "cell_type": "markdown",
   "id": "37021178",
   "metadata": {},
   "source": [
    "The loss function that is used is MSE which is common for regression tasks                                                  \n",
    "The neural network architecture used is a feedforward neural network with three fully connected dense layers and            \n",
    "used 64 neurons in layer_1 and 32 in layer_2                                                                                \n",
    "The optimizer that used was Adam with a learning rate of 0.001.\n"
   ]
  },
  {
   "cell_type": "code",
   "execution_count": 13,
   "id": "a9568f14",
   "metadata": {},
   "outputs": [
    {
     "name": "stderr",
     "output_type": "stream",
     "text": [
      "C:\\Users\\HP\\anaconda3\\Lib\\site-packages\\torch\\nn\\modules\\loss.py:535: UserWarning: Using a target size (torch.Size([32])) that is different to the input size (torch.Size([32, 1])). This will likely lead to incorrect results due to broadcasting. Please ensure they have the same size.\n",
      "  return F.mse_loss(input, target, reduction=self.reduction)\n",
      "C:\\Users\\HP\\anaconda3\\Lib\\site-packages\\torch\\nn\\modules\\loss.py:535: UserWarning: Using a target size (torch.Size([28])) that is different to the input size (torch.Size([28, 1])). This will likely lead to incorrect results due to broadcasting. Please ensure they have the same size.\n",
      "  return F.mse_loss(input, target, reduction=self.reduction)\n",
      "C:\\Users\\HP\\anaconda3\\Lib\\site-packages\\torch\\nn\\modules\\loss.py:535: UserWarning: Using a target size (torch.Size([23])) that is different to the input size (torch.Size([23, 1])). This will likely lead to incorrect results due to broadcasting. Please ensure they have the same size.\n",
      "  return F.mse_loss(input, target, reduction=self.reduction)\n"
     ]
    },
    {
     "name": "stdout",
     "output_type": "stream",
     "text": [
      "Epoch [1/30] - Train Loss: 1.16, Test MSE Error: 1.60\n",
      "Epoch [2/30] - Train Loss: 1.02, Test MSE Error: 1.21\n",
      "Epoch [3/30] - Train Loss: 0.99, Test MSE Error: 1.22\n",
      "Epoch [4/30] - Train Loss: 0.96, Test MSE Error: 1.54\n",
      "Epoch [5/30] - Train Loss: 0.90, Test MSE Error: 1.34\n",
      "Epoch [6/30] - Train Loss: 1.05, Test MSE Error: 1.93\n",
      "Epoch [7/30] - Train Loss: 1.07, Test MSE Error: 1.25\n",
      "Epoch [8/30] - Train Loss: 0.92, Test MSE Error: 1.34\n",
      "Epoch [9/30] - Train Loss: 0.88, Test MSE Error: 1.21\n",
      "Epoch [10/30] - Train Loss: 0.93, Test MSE Error: 1.28\n",
      "Epoch [11/30] - Train Loss: 0.92, Test MSE Error: 1.23\n",
      "Epoch [12/30] - Train Loss: 0.92, Test MSE Error: 1.24\n",
      "Epoch [13/30] - Train Loss: 0.89, Test MSE Error: 1.24\n",
      "Epoch [14/30] - Train Loss: 0.94, Test MSE Error: 1.22\n",
      "Epoch [15/30] - Train Loss: 0.89, Test MSE Error: 1.32\n",
      "Epoch [16/30] - Train Loss: 0.93, Test MSE Error: 1.19\n",
      "Epoch [17/30] - Train Loss: 0.89, Test MSE Error: 1.24\n",
      "Epoch [18/30] - Train Loss: 0.89, Test MSE Error: 1.23\n",
      "Epoch [19/30] - Train Loss: 0.87, Test MSE Error: 1.33\n",
      "Epoch [20/30] - Train Loss: 0.91, Test MSE Error: 1.22\n",
      "Epoch [21/30] - Train Loss: 0.91, Test MSE Error: 1.20\n",
      "Epoch [22/30] - Train Loss: 0.93, Test MSE Error: 1.43\n",
      "Epoch [23/30] - Train Loss: 1.00, Test MSE Error: 1.44\n",
      "Epoch [24/30] - Train Loss: 1.08, Test MSE Error: 1.21\n",
      "Epoch [25/30] - Train Loss: 0.98, Test MSE Error: 1.25\n",
      "Epoch [26/30] - Train Loss: 1.00, Test MSE Error: 1.70\n",
      "Epoch [27/30] - Train Loss: 0.99, Test MSE Error: 1.22\n",
      "Epoch [28/30] - Train Loss: 0.96, Test MSE Error: 1.29\n",
      "Epoch [29/30] - Train Loss: 0.94, Test MSE Error: 1.35\n",
      "Epoch [30/30] - Train Loss: 1.06, Test MSE Error: 1.26\n"
     ]
    }
   ],
   "source": [
    "import torch.nn as nn\n",
    "import torch.optim as optim\n",
    "\n",
    "\n",
    "loss_function = nn.MSELoss()\n",
    "input_size = 6\n",
    "\n",
    "class CustomCrimeRegressionModel(nn.Module):\n",
    "    def __init__(self, input_size):\n",
    "        super(CustomCrimeRegressionModel, self).__init__()\n",
    "        self.fc1 = nn.Linear(input_size, 64)\n",
    "        self.fc2 = nn.Linear(64, 32)\n",
    "        self.fc3 = nn.Linear(32, 1)\n",
    "        self.relu = nn.ReLU()\n",
    "\n",
    "    def forward(self, x):\n",
    "        x = self.relu(self.fc1(x))\n",
    "        x = self.relu(self.fc2(x))\n",
    "        x = self.fc3(x)\n",
    "        return x\n",
    "\n",
    "model = CustomCrimeRegressionModel(input_size)\n",
    "\n",
    "optimizer = optim.Adam(model.parameters(), lr=0.001)\n",
    "\n",
    "num_epochs = 30\n",
    "\n",
    "for epoch in range(num_epochs):\n",
    "    model.train()\n",
    "    train_loss = 0.0\n",
    "\n",
    "    for batch_X, batch_Y in train_loader:\n",
    "        optimizer.zero_grad()\n",
    "        predictions = model(batch_X)\n",
    "        loss = loss_function(predictions, batch_Y)\n",
    "        loss.backward()\n",
    "        optimizer.step()\n",
    "        train_loss = train_loss + loss.item()\n",
    "\n",
    "    train_loss = train_loss / len(train_loader)\n",
    "\n",
    "    model.eval()\n",
    "    test_loss = 0.0\n",
    "\n",
    "    with torch.no_grad():\n",
    "        for batch_X, batch_Y in test_loader:\n",
    "            predictions = model(batch_X)\n",
    "            loss = loss_function(predictions, batch_Y)\n",
    "            test_loss =test_loss + loss.item()\n",
    "\n",
    "    test_loss = test_loss / len(test_loader)\n",
    "\n",
    "    print(f\"Epoch [{epoch + 1}/{num_epochs}] - Train Loss: {train_loss:.2f}, Test MSE Error: {test_loss:.2f}\")\n"
   ]
  },
  {
   "cell_type": "markdown",
   "id": "86e3fc70-c6ce-4589-9930-128951290e8d",
   "metadata": {},
   "source": [
    "## Task 4 \n",
    "\n",
    "In this task, you will try to predict the number of crime victims as a **class number**. Therefore the machine learning problem is a **classification** problem. \n",
    "\n",
    "* Repeat all the steps in task 3. Specifically, pay attention to the differences with regression.\n",
    "* How would you find the number of classes on the output data?\n",
    "* How is the architecture different?\n",
    "* How is the loss function different?\n",
    "* Calculate the Accuracy for test data as the number of correct classified outputs divided by the total number of test data in each epoch. Report it at the end of each epoch\n",
    "* Try a few variations of learning rate, hidden dimensions, layers, etc. What is the best accuracy that you can get? "
   ]
  },
  {
   "cell_type": "markdown",
   "id": "de133aca",
   "metadata": {},
   "source": [
    "In the architecture we use size of input layer as 6 and the no.of neurons in layer_1 is 64 and for the layer_2 is 16.       \n",
    "The loss function that was used is CrossEntropy function.This loss function is commonly used for multi-class classification\n",
    "problems. It combines the Softmax activation function and the negative log-likelihood loss to compute the loss between \n",
    "predicted class probabilities and true class labels."
   ]
  },
  {
   "cell_type": "code",
   "execution_count": 12,
   "id": "7d929c52-af34-4081-92cd-3463a3fc4db1",
   "metadata": {},
   "outputs": [
    {
     "name": "stdout",
     "output_type": "stream",
     "text": [
      "Epoch [1/30] - Train Loss: 91.50, Train Accuracy: 0.41, Test Loss: 1.62, Test Accuracy: 0.45\n",
      "Epoch [2/30] - Train Loss: 25.71, Train Accuracy: 0.48, Test Loss: 1.89, Test Accuracy: 0.45\n",
      "Epoch [3/30] - Train Loss: 27.87, Train Accuracy: 0.42, Test Loss: 1.56, Test Accuracy: 0.45\n",
      "Epoch [4/30] - Train Loss: 25.03, Train Accuracy: 0.50, Test Loss: 1.39, Test Accuracy: 0.40\n",
      "Epoch [5/30] - Train Loss: 20.26, Train Accuracy: 0.48, Test Loss: 1.47, Test Accuracy: 0.45\n",
      "Epoch [6/30] - Train Loss: 19.29, Train Accuracy: 0.47, Test Loss: 1.31, Test Accuracy: 0.45\n",
      "Epoch [7/30] - Train Loss: 18.31, Train Accuracy: 0.51, Test Loss: 1.32, Test Accuracy: 0.45\n",
      "Epoch [8/30] - Train Loss: 21.13, Train Accuracy: 0.47, Test Loss: 1.28, Test Accuracy: 0.45\n",
      "Epoch [9/30] - Train Loss: 19.19, Train Accuracy: 0.53, Test Loss: 1.34, Test Accuracy: 0.45\n",
      "Epoch [10/30] - Train Loss: 18.86, Train Accuracy: 0.52, Test Loss: 1.29, Test Accuracy: 0.55\n",
      "Epoch [11/30] - Train Loss: 17.69, Train Accuracy: 0.53, Test Loss: 1.31, Test Accuracy: 0.45\n",
      "Epoch [12/30] - Train Loss: 18.73, Train Accuracy: 0.51, Test Loss: 1.30, Test Accuracy: 0.45\n",
      "Epoch [13/30] - Train Loss: 17.65, Train Accuracy: 0.53, Test Loss: 1.29, Test Accuracy: 0.47\n",
      "Epoch [14/30] - Train Loss: 17.27, Train Accuracy: 0.53, Test Loss: 1.30, Test Accuracy: 0.45\n",
      "Epoch [15/30] - Train Loss: 20.49, Train Accuracy: 0.49, Test Loss: 1.32, Test Accuracy: 0.45\n",
      "Epoch [16/30] - Train Loss: 20.36, Train Accuracy: 0.52, Test Loss: 1.29, Test Accuracy: 0.53\n",
      "Epoch [17/30] - Train Loss: 21.24, Train Accuracy: 0.52, Test Loss: 1.35, Test Accuracy: 0.45\n",
      "Epoch [18/30] - Train Loss: 19.81, Train Accuracy: 0.53, Test Loss: 1.28, Test Accuracy: 0.53\n",
      "Epoch [19/30] - Train Loss: 18.44, Train Accuracy: 0.49, Test Loss: 1.31, Test Accuracy: 0.45\n",
      "Epoch [20/30] - Train Loss: 19.67, Train Accuracy: 0.53, Test Loss: 1.30, Test Accuracy: 0.45\n",
      "Epoch [21/30] - Train Loss: 20.97, Train Accuracy: 0.44, Test Loss: 1.27, Test Accuracy: 0.45\n",
      "Epoch [22/30] - Train Loss: 17.64, Train Accuracy: 0.53, Test Loss: 1.32, Test Accuracy: 0.45\n",
      "Epoch [23/30] - Train Loss: 18.16, Train Accuracy: 0.52, Test Loss: 1.28, Test Accuracy: 0.45\n",
      "Epoch [24/30] - Train Loss: 20.25, Train Accuracy: 0.53, Test Loss: 1.29, Test Accuracy: 0.45\n",
      "Epoch [25/30] - Train Loss: 19.51, Train Accuracy: 0.53, Test Loss: 1.31, Test Accuracy: 0.45\n",
      "Epoch [26/30] - Train Loss: 19.65, Train Accuracy: 0.53, Test Loss: 1.34, Test Accuracy: 0.45\n",
      "Epoch [27/30] - Train Loss: 17.13, Train Accuracy: 0.53, Test Loss: 1.29, Test Accuracy: 0.45\n",
      "Epoch [28/30] - Train Loss: 18.32, Train Accuracy: 0.49, Test Loss: 1.26, Test Accuracy: 0.45\n",
      "Epoch [29/30] - Train Loss: 20.57, Train Accuracy: 0.53, Test Loss: 1.33, Test Accuracy: 0.45\n",
      "Epoch [30/30] - Train Loss: 19.49, Train Accuracy: 0.53, Test Loss: 1.34, Test Accuracy: 0.45\n"
     ]
    }
   ],
   "source": [
    "loss_function = nn.CrossEntropyLoss()\n",
    "\n",
    "input_size = 6\n",
    "num_classes = 16\n",
    "\n",
    "class CustomCrimeClassificationModel(nn.Module):\n",
    "    def __init__(self, input_size, num_classes):\n",
    "        super(CustomCrimeClassificationModel, self).__init__()\n",
    "        self.fc1 = nn.Linear(input_size, 64)\n",
    "        self.relu = nn.ReLU()\n",
    "        self.fc2 = nn.Linear(64, 16)\n",
    "        self.fc3 = nn.Linear(16, num_classes)\n",
    "\n",
    "    def forward(self, x):\n",
    "        x = self.fc1(x)\n",
    "        x = self.relu(x)\n",
    "        x = self.fc2(x)\n",
    "        x = self.relu(x)\n",
    "        x = self.fc3(x)\n",
    "        return x\n",
    "\n",
    "model = CustomCrimeClassificationModel(input_size, num_classes)\n",
    "\n",
    "optimizer = optim.Adam(model.parameters(), lr=0.01)\n",
    "\n",
    "num_epochs = 30\n",
    "\n",
    "for epoch in range(num_epochs):\n",
    "    model.train()\n",
    "    train_loss = 0.0\n",
    "    correct_train = 0\n",
    "\n",
    "    for batch_X, batch_Y in train_loader:\n",
    "        optimizer.zero_grad()\n",
    "        predictions = model(batch_X)\n",
    "\n",
    "        batch_Y = batch_Y.to(torch.long)\n",
    "\n",
    "        loss = loss_function(predictions, batch_Y)\n",
    "        loss.backward()\n",
    "        optimizer.step()\n",
    "        train_loss += train_loss + loss.item()\n",
    "\n",
    "        _, predicted = torch.max(predictions, 1)\n",
    "        correct_train = correct_train + (predicted == batch_Y).sum().item()\n",
    "\n",
    "    train_loss = train_loss / len(train_loader)\n",
    "    train_accuracy = correct_train / len(train_loader.dataset)\n",
    "\n",
    "    model.eval()\n",
    "    test_loss = 0.0\n",
    "    correct_test = 0\n",
    "\n",
    "    with torch.no_grad():\n",
    "        for batch_X, batch_Y in test_loader:\n",
    "            predictions = model(batch_X)\n",
    "\n",
    "            batch_Y = batch_Y.to(torch.long)\n",
    "\n",
    "            loss = loss_function(predictions, batch_Y)\n",
    "            test_loss = test_loss + loss.item()\n",
    "\n",
    "            _, predicted = torch.max(predictions, 1)\n",
    "            correct_test = correct_test + (predicted == batch_Y).sum().item()\n",
    "\n",
    "    test_loss = test_loss / len(test_loader)\n",
    "    test_accuracy = correct_test / len(test_loader.dataset)\n",
    "\n",
    "    print(f\"Epoch [{epoch + 1}/{num_epochs}] - Train Loss: {train_loss:.2f}, Train Accuracy: {train_accuracy:.2f}, Test Loss: {test_loss:.2f}, Test Accuracy: {test_accuracy:.2f}\")\n"
   ]
  },
  {
   "cell_type": "code",
   "execution_count": 15,
   "id": "d866168c",
   "metadata": {},
   "outputs": [
    {
     "name": "stdout",
     "output_type": "stream",
     "text": [
      "Best Test Accuracy: 0.4909\n"
     ]
    }
   ],
   "source": [
    "\n",
    "from sklearn.model_selection import train_test_split\n",
    "\n",
    "learning_rates = [0.001, 0.01, 0.1]\n",
    "hidden_layer_dimensions = [(64, 32), (128, 32), (256, 64)]\n",
    "\n",
    "best_accuracy = 0.0\n",
    "best_model = None\n",
    "\n",
    "for lr in learning_rates:\n",
    "    for hidden_dim in hidden_layer_dimensions:\n",
    "        class NeuralNetworkC(nn.Module):\n",
    "            def __init__(self, input_size, num_classes):\n",
    "                super(NeuralNetworkC, self).__init__()\n",
    "                self.fc1 = nn.Linear(input_size, hidden_dim[0])\n",
    "                self.relu = nn.ReLU()\n",
    "                self.fc2 = nn.Linear(hidden_dim[0], hidden_dim[1])\n",
    "                self.fc3 = nn.Linear(hidden_dim[1], num_classes)\n",
    "\n",
    "            def forward(self, x):\n",
    "                x = self.fc1(x)\n",
    "                x = self.relu(x)\n",
    "                x = self.fc2(x)\n",
    "                x = self.relu(x)\n",
    "                x = self.fc3(x)\n",
    "                return x\n",
    "\n",
    "        model = NeuralNetworkC(input_size, num_classes)\n",
    "        loss_function = nn.CrossEntropyLoss()\n",
    "        optimizer = optim.Adam(model.parameters(), lr=lr)\n",
    "\n",
    "        num_epochs = 50\n",
    "\n",
    "        for epoch in range(num_epochs):\n",
    "            model.train()\n",
    "            train_loss = 0.0\n",
    "            correct_train = 0\n",
    "\n",
    "            for batch_X, batch_Y in train_loader:\n",
    "                optimizer.zero_grad()\n",
    "                predictions = model(batch_X)\n",
    "\n",
    "                batch_Y = batch_Y.to(torch.long)\n",
    "\n",
    "                loss = loss_function(predictions, batch_Y)\n",
    "                loss.backward()\n",
    "                optimizer.step()\n",
    "\n",
    "                _, predicted = torch.max(predictions, 1)\n",
    "                correct_train  = correct_train +  (predicted == batch_Y).sum().item()\n",
    "\n",
    "            train_loss = train_loss/ len(train_loader)\n",
    "            train_accuracy = correct_train / len(train_loader.dataset)\n",
    "\n",
    "            model.eval()\n",
    "            test_loss = 0.0\n",
    "            correct_test = 0\n",
    "\n",
    "            with torch.no_grad():\n",
    "                for batch_X, batch_Y in test_loader:\n",
    "                    predictions = model(batch_X)\n",
    "                    batch_Y = batch_Y.to(torch.long)\n",
    "\n",
    "                    loss = loss_function(predictions, batch_Y)\n",
    "                    test_loss = test_loss + loss.item()\n",
    "\n",
    "                    _, predicted = torch.max(predictions, 1)\n",
    "                    correct_test = correct_test + (predicted == batch_Y).sum().item()\n",
    "\n",
    "            test_loss = test_loss / len(test_loader)\n",
    "            test_accuracy = correct_test / len(test_loader.dataset)\n",
    "\n",
    "        if test_accuracy > best_accuracy:\n",
    "            best_accuracy = test_accuracy\n",
    "            best_model = model\n",
    "\n",
    "print(f\"Best Test Accuracy: {best_accuracy:.4f}\")\n"
   ]
  },
  {
   "cell_type": "markdown",
   "id": "84d2a304-6197-4cd9-b31e-745f7862f213",
   "metadata": {},
   "source": [
    "## Task 5"
   ]
  },
  {
   "cell_type": "markdown",
   "id": "d6e4ef16-d828-45e5-bd58-1c49fcfecf52",
   "metadata": {},
   "source": [
    "### Reflect on your results\n",
    "\n",
    "* Write a paragraph about your experience with tasks 3 and 4. How do you compare the results? Which one worked better? Why?\n",
    "* Write a piece of code that finds an example of a  miss-classification. Calculate the probabilities for the output classes and plot them in a bar chart. Also, indicate what is the correct class label."
   ]
  },
  {
   "cell_type": "markdown",
   "id": "46916fa2",
   "metadata": {},
   "source": [
    "The classification worked better because categorial values classifcation works better and for the continuous values regression works better"
   ]
  },
  {
   "cell_type": "code",
   "execution_count": 16,
   "id": "9eaadfeb",
   "metadata": {},
   "outputs": [
    {
     "name": "stdout",
     "output_type": "stream",
     "text": [
      "Misclassified Example True Label: 1.0\n"
     ]
    },
    {
     "data": {
      "image/png": "[encoded data removed]",
      "text/plain": [
       "<Figure size 640x480 with 1 Axes>"
      ]
     },
     "metadata": {},
     "output_type": "display_data"
    }
   ],
   "source": [
    "model.eval()\n",
    "\n",
    "misclassified_examples = []\n",
    "true_labels = []\n",
    "\n",
    "for batch_X, batch_Y in test_loader:\n",
    "    predictions = model(batch_X)\n",
    "    predicted_labels = torch.argmax(predictions, dim=1)\n",
    "\n",
    "    misclassified_indices = (predicted_labels != batch_Y).nonzero()\n",
    "\n",
    "    if misclassified_indices.numel() > 0:\n",
    "        misclassified_examples.extend(batch_X[misclassified_indices])\n",
    "        true_labels.extend(batch_Y[misclassified_indices])\n",
    "        break\n",
    "\n",
    "if len(misclassified_examples) > 0:\n",
    "    misclassified_example = misclassified_examples[0]\n",
    "    true_label = true_labels[0]\n",
    "\n",
    "    print(f'Misclassified Example True Label: {true_label.item()}')\n",
    "\n",
    "    probabilities = torch.softmax(predictions[0], dim=0).tolist()\n",
    "    class_labels = list(range(num_classes))\n",
    "\n",
    "    plt.bar(class_labels, probabilities, tick_label=class_labels)\n",
    "    plt.xlabel('Class Labels')\n",
    "    plt.ylabel('Class Probabilities')\n",
    "    plt.title('Class Probabilities for Misclassified Example')\n",
    "    plt.show()\n",
    "else:\n",
    "    print(\"No misclassified examples found in the test data.\")\n"
   ]
  },
  {
   "cell_type": "markdown",
   "id": "5b000b0b-fa37-4f8d-8ec7-0a1e6e749424",
   "metadata": {},
   "source": [
    "## Task 6: Exploring the patterns in raw data\n",
    "\n",
    "* Plot the crime incidents as a `scatter` plot using the corrdinates. Use the color property of each datapoint to indicate the day of the week. Is there a pattern in the plot?\n",
    "* Now make a new scatter plot and use the color property of each datapoint to indicate the number of persons involved in the incident. Is there a pattern here?\n",
    "* use numpy (or pandas if you like) to sort the number of crimes reported by the day of the week. What days are most frequent?\n"
   ]
  },
  {
   "cell_type": "code",
   "execution_count": 19,
   "id": "5b396aaf-5d1a-49cd-ae1d-b63af7e561f5",
   "metadata": {},
   "outputs": [
    {
     "data": {
      "image/png": "[encoded data removed]",
      "text/plain": [
       "<Figure size 1200x600 with 4 Axes>"
      ]
     },
     "metadata": {},
     "output_type": "display_data"
    },
    {
     "name": "stdout",
     "output_type": "stream",
     "text": [
      "Most frequent day for crimes: Fri\n"
     ]
    }
   ],
   "source": [
    "\n",
    "crime_counts_by_day = df['DayOfWeek'].value_counts().sort_index()\n",
    "\n",
    "day_names = ['Mon', 'Tues', 'Wed', 'Thurs', 'Fri', 'Sat', 'Sun']\n",
    "\n",
    "fig, axes = plt.subplots(1, 2, figsize=(12, 6))\n",
    "\n",
    "colors = ['Mon', 'Tues', 'Wed', 'Thurs', 'Fri', 'Sat', 'Sun']\n",
    "\n",
    "scatter1 = axes[0].scatter(df['X'], df['Y'], c=df['DayOfWeek'], cmap='viridis', alpha=0.5)\n",
    "axes[0].set_xlabel('Longitude')\n",
    "axes[0].set_ylabel('Latitude')\n",
    "axes[0].set_title('Crime Incidents by Day of the Week')\n",
    "cbar1 = plt.colorbar(scatter1, ax=axes[0], label='Day of the Week')\n",
    "cbar1.set_ticks(range(7))\n",
    "cbar1.set_ticklabels(day_names)\n",
    "\n",
    "scatter2 = axes[1].scatter(df['X'], df['Y'], c=df['VictimCount'], cmap='coolwarm', alpha=0.5)\n",
    "axes[1].set_xlabel('Longitude')\n",
    "axes[1].set_ylabel('Latitude')\n",
    "axes[1].set_title('Crime Incidents by Number of Persons Involved')\n",
    "cbar2 = plt.colorbar(scatter2, ax=axes[1], label='Number of Persons Involved')\n",
    "\n",
    "plt.show()\n",
    "\n",
    "most_frequent_day = day_names[crime_counts_by_day.idxmax()]\n",
    "print(f\"Most frequent day for crimes: {day_names[crime_counts_by_day.idxmax()]}\")\n",
    "\n"
   ]
  },
  {
   "cell_type": "code",
   "execution_count": null,
   "id": "e217e4d0",
   "metadata": {},
   "outputs": [],
   "source": []
  }
 ],
 "metadata": {
  "kernelspec": {
   "display_name": "Python 3 (ipykernel)",
   "language": "python",
   "name": "python3"
  },
  "language_info": {
   "codemirror_mode": {
    "name": "ipython",
    "version": 3
   },
   "file_extension": ".py",
   "mimetype": "text/x-python",
   "name": "python",
   "nbconvert_exporter": "python",
   "pygments_lexer": "ipython3",
   "version": "3.11.4"
  }
 },
 "nbformat": 4,
 "nbformat_minor": 5
}
